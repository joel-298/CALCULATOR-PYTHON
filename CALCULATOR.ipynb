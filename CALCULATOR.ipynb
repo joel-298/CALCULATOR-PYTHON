{
 "cells": [
  {
   "cell_type": "code",
   "execution_count": 1,
   "id": "c5cdbd9c",
   "metadata": {},
   "outputs": [],
   "source": [
    "import tkinter as tk\n",
    "\n",
    "class CalculatorApp:\n",
    "    def __init__(self, master):\n",
    "        self.master = master\n",
    "        self.master.title(\"Calculator\")\n",
    "\n",
    "        self.display_var = tk.StringVar()\n",
    "        self.display_var.set(\"\")\n",
    "\n",
    "        self.display = tk.Entry(master, textvariable=self.display_var, font=('Arial', 14), justify='right')\n",
    "        self.display.grid(row=0, column=0, columnspan=4, padx=10, pady=10, sticky='nsew')\n",
    "\n",
    "        buttons = [\n",
    "            ('7', 1, 0), ('8', 1, 1), ('9', 1, 2), ('/', 1, 3),\n",
    "            ('4', 2, 0), ('5', 2, 1), ('6', 2, 2), ('*', 2, 3),\n",
    "            ('1', 3, 0), ('2', 3, 1), ('3', 3, 2), ('-', 3, 3),\n",
    "            ('0', 4, 0), ('C', 4, 1), ('=', 4, 2), ('+', 4, 3)\n",
    "        ]\n",
    "\n",
    "        for (text, row, col) in buttons:\n",
    "            btn = tk.Button(master, text=text, font=('Arial', 14), command=lambda t=text: self.on_button_click(t))\n",
    "            btn.grid(row=row, column=col, padx=5, pady=5, sticky='nsew')\n",
    "\n",
    "    def on_button_click(self, text):\n",
    "        if text == '=':\n",
    "            try:\n",
    "                result = eval(self.display_var.get())\n",
    "                self.display_var.set(str(result))\n",
    "            except Exception as e:\n",
    "                self.display_var.set(\"Error\")\n",
    "        elif text == 'C':\n",
    "            self.display_var.set(\"\")\n",
    "        else:\n",
    "            self.display_var.set(self.display_var.get() + text)\n",
    "\n",
    "def main():\n",
    "    root = tk.Tk()\n",
    "    app = CalculatorApp(root)\n",
    "    root.mainloop()\n",
    "\n",
    "if __name__ == \"__main__\":\n",
    "    main()\n"
   ]
  },
  {
   "cell_type": "code",
   "execution_count": null,
   "id": "586ee386",
   "metadata": {},
   "outputs": [],
   "source": []
  }
 ],
 "metadata": {
  "kernelspec": {
   "display_name": "Python 3 (ipykernel)",
   "language": "python",
   "name": "python3"
  },
  "language_info": {
   "codemirror_mode": {
    "name": "ipython",
    "version": 3
   },
   "file_extension": ".py",
   "mimetype": "text/x-python",
   "name": "python",
   "nbconvert_exporter": "python",
   "pygments_lexer": "ipython3",
   "version": "3.11.5"
  }
 },
 "nbformat": 4,
 "nbformat_minor": 5
}
